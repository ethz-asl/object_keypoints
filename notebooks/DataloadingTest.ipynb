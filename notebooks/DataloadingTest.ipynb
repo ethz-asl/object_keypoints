{
 "cells": [
  {
   "cell_type": "code",
   "execution_count": null,
   "id": "virgin-north",
   "metadata": {},
   "outputs": [],
   "source": [
    "from matplotlib import pyplot as plt\n",
    "import numpy as np\n",
    "from argparse import Namespace\n",
    "import json"
   ]
  },
  {
   "cell_type": "code",
   "execution_count": null,
   "id": "preceding-formula",
   "metadata": {},
   "outputs": [],
   "source": [
    "from scripts.train import DataModule, _to_image"
   ]
  },
  {
   "cell_type": "code",
   "execution_count": null,
   "id": "animal-receiver",
   "metadata": {},
   "outputs": [],
   "source": [
    "with open('../config/cups.json', 'rt') as f:\n",
    "    keypoint_config = json.load(f)\n",
    "module = DataModule(Namespace(train='/home/ken/data/cups3/', val='/home/ken/data/cups3/', batch_size=1, workers=1, pool=32), keypoint_config=keypoint_config)\n",
    "module.setup('fit')\n",
    "\n",
    "train_loader = module.train_dataloader()\n",
    "train_iterator = iter(train_loader)"
   ]
  },
  {
   "cell_type": "code",
   "execution_count": null,
   "id": "handled-rider",
   "metadata": {},
   "outputs": [],
   "source": [
    "import cv2\n",
    "def resize(target, width=640, height=360):\n",
    "    return cv2.resize(target, (width, height))\n",
    "    "
   ]
  },
  {
   "cell_type": "code",
   "execution_count": null,
   "id": "sudden-actor",
   "metadata": {
    "tags": []
   },
   "outputs": [],
   "source": [
    "frame, target, centers = next(train_iterator)\n",
    "\n",
    "plt.figure(figsize=(14, 8))\n",
    "image = _to_image(frame[0].numpy())\n",
    "for i in range(2):\n",
    "    for j in range(2):\n",
    "        axis = plt.subplot2grid((2, 2), loc=(i, j))\n",
    "        axis.imshow(image)\n",
    "        axis.imshow(resize(target[0, i * 2 + j].numpy()), alpha=0.7)\n",
    "        plt.axis('off')\n",
    "plt.tight_layout()\n",
    "pass"
   ]
  },
  {
   "cell_type": "code",
   "execution_count": null,
   "id": "located-egypt",
   "metadata": {},
   "outputs": [],
   "source": [
    "vectors = centers.numpy()[0]\n",
    "indices = np.zeros((2, 180, 320), dtype=np.uint16)\n",
    "for i in range(180):\n",
    "    for j in range(320):\n",
    "        indices[:, i, j] = [j, i]\n",
    "plt.figure(figsize=(12, 10))\n",
    "plt.quiver(vectors[0], vectors[1], units='xy', scale_units='xy', scale=1.0)\n",
    "plt.show()\n"
   ]
  },
  {
   "cell_type": "code",
   "execution_count": null,
   "id": "frank-norfolk",
   "metadata": {},
   "outputs": [],
   "source": [
    "pixel_indices = np.zeros((2, 180, 320), dtype=np.float32)\n",
    "for i in range(180):\n",
    "    for j in range(320):\n",
    "        pixel_indices[:, i, j] = [j + 0.5, i + 0.5]"
   ]
  },
  {
   "cell_type": "code",
   "execution_count": null,
   "id": "arctic-cattle",
   "metadata": {},
   "outputs": [],
   "source": [
    "norms = np.linalg.norm(vectors, axis=0)\n",
    "where_non_zero = np.abs(norms) > 1e-1\n",
    "centers = np.zeros((2, pixel_indices.shape[1], pixel_indices.shape[2]), dtype=np.float32)\n",
    "centers[:, where_non_zero] = pixel_indices[:, where_non_zero] + vectors[:, where_non_zero]"
   ]
  },
  {
   "cell_type": "code",
   "execution_count": null,
   "id": "trained-squad",
   "metadata": {},
   "outputs": [],
   "source": [
    "dotted_image = cv2.resize(image.copy(), (320, 180))\n",
    "for point in centers[:, where_non_zero].transpose():    \n",
    "    cv2.circle(dotted_image, (point[0], point[1]), 2, (255, 0, 0), -1)\n",
    "plt.imshow(dotted_image)"
   ]
  },
  {
   "cell_type": "code",
   "execution_count": null,
   "id": "artificial-rendering",
   "metadata": {},
   "outputs": [],
   "source": [
    "assert centers[:, where_non_zero].shape[1] > 3\n",
    "center_points = np.unique(centers[:, where_non_zero].round().astype(np.int32), axis=1)\n",
    "assert center_points.shape[1] >= 1 and center_points.shape[1] < 5"
   ]
  }
 ],
 "metadata": {
  "kernelspec": {
   "display_name": "vision",
   "language": "python",
   "name": "vision"
  },
  "language_info": {
   "codemirror_mode": {
    "name": "ipython",
    "version": 3
   },
   "file_extension": ".py",
   "mimetype": "text/x-python",
   "name": "python",
   "nbconvert_exporter": "python",
   "pygments_lexer": "ipython3",
   "version": "3.7.10"
  }
 },
 "nbformat": 4,
 "nbformat_minor": 5
}
