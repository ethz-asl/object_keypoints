{
 "cells": [
  {
   "cell_type": "code",
   "execution_count": null,
   "id": "premier-rebound",
   "metadata": {},
   "outputs": [],
   "source": [
    "from matplotlib import pyplot as plt\n",
    "import numpy as np\n",
    "from argparse import Namespace"
   ]
  },
  {
   "cell_type": "code",
   "execution_count": null,
   "id": "driven-question",
   "metadata": {},
   "outputs": [],
   "source": [
    "from scripts.train import DataModule, _to_image"
   ]
  },
  {
   "cell_type": "code",
   "execution_count": null,
   "id": "suspected-assist",
   "metadata": {},
   "outputs": [],
   "source": [
    "module = DataModule(Namespace(data='/home/ken/data/large_valve/', batch_size=1, workers=1, pool=1000))\n",
    "module.setup('fit')\n",
    "\n",
    "train_loader = module.train_dataloader()\n",
    "train_iterator = iter(train_loader)"
   ]
  },
  {
   "cell_type": "code",
   "execution_count": null,
   "id": "unusual-munich",
   "metadata": {},
   "outputs": [],
   "source": [
    "import cv2\n",
    "def resize(target, width=640, height=360):\n",
    "    return cv2.resize(target, (width, height))\n",
    "    "
   ]
  },
  {
   "cell_type": "code",
   "execution_count": null,
   "id": "cooked-chrome",
   "metadata": {
    "tags": []
   },
   "outputs": [],
   "source": [
    "frame, target = next(train_iterator)\n",
    "\n",
    "plt.figure(figsize=(14, 5))\n",
    "axis = plt.subplot2grid((1, 1), loc=(0, 0))\n",
    "axis.imshow(_to_image(frame[0].numpy()))\n",
    "axis.imshow(resize(target[0].sum(axis=0).numpy()), alpha=0.7)\n",
    "plt.axis('off')\n",
    "pass"
   ]
  },
  {
   "cell_type": "code",
   "execution_count": null,
   "id": "electoral-exercise",
   "metadata": {},
   "outputs": [],
   "source": []
  }
 ],
 "metadata": {
  "kernelspec": {
   "display_name": "vision",
   "language": "python",
   "name": "vision"
  },
  "language_info": {
   "codemirror_mode": {
    "name": "ipython",
    "version": 3
   },
   "file_extension": ".py",
   "mimetype": "text/x-python",
   "name": "python",
   "nbconvert_exporter": "python",
   "pygments_lexer": "ipython3",
   "version": "3.7.10"
  }
 },
 "nbformat": 4,
 "nbformat_minor": 5
}
